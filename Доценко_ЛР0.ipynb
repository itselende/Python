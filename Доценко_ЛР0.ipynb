{
  "cells": [
    {
      "cell_type": "markdown",
      "metadata": {
        "id": "view-in-github",
        "colab_type": "text"
      },
      "source": [
        "<a href=\"https://colab.research.google.com/github/itselende/Python/blob/main/%D0%94%D0%BE%D1%86%D0%B5%D0%BD%D0%BA%D0%BE_%D0%9B%D0%A00.ipynb\" target=\"_parent\"><img src=\"https://colab.research.google.com/assets/colab-badge.svg\" alt=\"Open In Colab\"/></a>"
      ]
    },
    {
      "cell_type": "code",
      "execution_count": 4,
      "id": "e42d2869",
      "metadata": {
        "id": "e42d2869",
        "outputId": "8710de63-4aad-435d-ecce-72f13cc9ce37",
        "colab": {
          "base_uri": "https://localhost:8080/"
        }
      },
      "outputs": [
        {
          "output_type": "execute_result",
          "data": {
            "text/plain": [
              "10"
            ]
          },
          "metadata": {},
          "execution_count": 4
        }
      ],
      "source": [
        "N = ord('O') % 10 + 1\n",
        "N"
      ]
    },
    {
      "cell_type": "markdown",
      "id": "8059dc69",
      "metadata": {
        "id": "8059dc69"
      },
      "source": [
        "# Норвегія\n",
        "\n",
        "|  Площа   | Населення|                Державний устрій               |\n",
        "|----------|----------|-----------------------------------------------|\n",
        "|385 207 км²|5 408 000|Конституційна монархія з парламентською системою уряду|\n",
        "\n",
        "**Видатні персоналії:**  \n",
        "\n",
        "* Едвард Гріг: Відомий норвезький композитор, автор багатьох відомих музичних творів, зокрема популярної \"Peer Gynt Suite\".\n",
        "\n",
        "* Роальд Амундсен: Відомий норвезький дослідник Південного полюса, перший, хто досяг Південного полюса нарівні з американцем Робертом Скоттом.\n",
        "\n",
        "* Фрідт'йоф Нансен: Норвезький полярник, вчений, письменник та громадський діяч, відомий своєю роботою у полярних експедиціях та як лауреат Нобелівської премії миру за свої внесок в роботу з біженцями.\n",
        "\n",
        "* Оле Гуннар Сольск'яр: Легендарний футболіст, колишній гравець збірної Норвегії, який також відомий своєю грою у клубі \"Манчестер Юнайтед\" та теперній тренерській кар'єрою.\n",
        "\n",
        "* Едвард Мунк: Відомий художник, автор картини \"Крик\", яка є однією з найвідоміших та найвпливовіших робіт у світовому мистецтві.\n",
        "\n",
        "<fieldset style=\"border: 2px solid green; padding: 10px;\">\n",
        "  <legend style=\"color: blue; font-style: italic;\">Пам'ятки культури та природи</legend>\n",
        "  <ul>\n",
        "    <li>Гірський ланцюг Ягерватн</li>\n",
        "    <li>Берген</li>\n",
        "    <li>Гаммерфест</li>\n",
        "    <li>Наслідки льодовиків Jostedalsbreen</li>\n",
        "    <li>Музей Фрідт'йофа Нансена</li>\n",
        "    <li>Церква Боргунд</li>\n",
        "  </ul>\n",
        "</fieldset>\n",
        "\n",
        "![просто гарне місце](https://images.pexels.com/photos/1647962/pexels-photo-1647962.jpeg?auto=compress&cs=tinysrgb&w=1260&h=750&dpr=1)\n",
        "\n",
        "\n",
        "[Більше інформації про Норвегію](https://euroways.com.ua/norway.html)\n"
      ]
    },
    {
      "cell_type": "code",
      "execution_count": 26,
      "id": "759a7aad",
      "metadata": {
        "id": "759a7aad",
        "outputId": "9a66a589-d36a-4376-8553-7ff68efc6b18",
        "colab": {
          "base_uri": "https://localhost:8080/",
          "height": 221
        }
      },
      "outputs": [
        {
          "output_type": "display_data",
          "data": {
            "text/plain": [
              "<IPython.core.display.HTML object>"
            ],
            "text/html": [
              "<svg xmlns=\"http://www.w3.org/2000/svg\" version=\"1.1\" viewBox=\"0 0 22 16\" width=\"350\" height=\"200\">\n",
              "\t<title>Flag of Norway</title>\n",
              "\t<rect width=\"22\" height=\"16\" fill=\"#ba0c2f\"/>\n",
              "\t<path d=\"M0,8h22M8,0v16\" stroke=\"#fff\" stroke-width=\"4\"/>\n",
              "\t<path d=\"M0,8h22M8,0v16\" stroke=\"#00205b\" stroke-width=\"2\"/>\n",
              "</svg>\n",
              "\n"
            ]
          },
          "metadata": {}
        }
      ],
      "source": [
        "%%HTML\n",
        "<svg xmlns=\"http://www.w3.org/2000/svg\" version=\"1.1\" viewBox=\"0 0 22 16\" width=\"350\" height=\"200\">\n",
        "\t<title>Flag of Norway</title>\n",
        "\t<rect width=\"22\" height=\"16\" fill=\"#ba0c2f\"/>\n",
        "\t<path d=\"M0,8h22M8,0v16\" stroke=\"#fff\" stroke-width=\"4\"/>\n",
        "\t<path d=\"M0,8h22M8,0v16\" stroke=\"#00205b\" stroke-width=\"2\"/>\n",
        "</svg>\n",
        "\n"
      ]
    },
    {
      "cell_type": "markdown",
      "id": "b1545d7d",
      "metadata": {
        "id": "b1545d7d"
      },
      "source": [
        "\n",
        "Реалізувати алгоритм визначення чи є введене число N\n",
        "сумою двох квадратів натуральних чисел. Тобто\n",
        "визначити такі цілі числа a і b, що a^2+b^2=N.\n",
        "Якщо таких чисел не існую вивести відповідне повідомлення.\n",
        "### **Приклад:**\n",
        "\n",
        "**In [2] task_10()**\n",
        "\n",
        "45\n",
        "\n",
        "Out [2] '3^2+6^2=45'\n"
      ]
    },
    {
      "cell_type": "code",
      "execution_count": 28,
      "id": "dcb3cad7",
      "metadata": {
        "id": "dcb3cad7",
        "colab": {
          "base_uri": "https://localhost:8080/"
        },
        "outputId": "ed9a9491-3971-4ae5-f17b-8b127bd60511"
      },
      "outputs": [
        {
          "output_type": "stream",
          "name": "stdout",
          "text": [
            "Введіть число: 11\n",
            "Такі цілі числа a та b не існують.\n"
          ]
        }
      ],
      "source": [
        "def task_10():\n",
        "    n = int(input(\"Введіть число: \"))\n",
        "    found = False\n",
        "\n",
        "    # Перевірка всіх можливих комбінацій a та b\n",
        "    for a in range(1, n):\n",
        "        for b in range(a, n):\n",
        "            if a ** 2 + b ** 2 == n:\n",
        "                print(f\"{a}^2 + {b}^2 = {n}\")\n",
        "                found = True\n",
        "                break\n",
        "        if found:\n",
        "            break\n",
        "\n",
        "    if not found:\n",
        "        print(\"Такі цілі числа a та b не існують.\")\n",
        "\n",
        "# Виклик функції\n",
        "task_10()\n"
      ]
    }
  ],
  "metadata": {
    "kernelspec": {
      "display_name": "Python 3 (ipykernel)",
      "language": "python",
      "name": "python3"
    },
    "language_info": {
      "codemirror_mode": {
        "name": "ipython",
        "version": 3
      },
      "file_extension": ".py",
      "mimetype": "text/x-python",
      "name": "python",
      "nbconvert_exporter": "python",
      "pygments_lexer": "ipython3",
      "version": "3.11.2"
    },
    "colab": {
      "provenance": [],
      "include_colab_link": true
    }
  },
  "nbformat": 4,
  "nbformat_minor": 5
}